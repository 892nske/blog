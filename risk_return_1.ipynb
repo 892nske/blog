{
 "cells": [
  {
   "cell_type": "code",
   "execution_count": 1,
   "id": "0f74f23f",
   "metadata": {},
   "outputs": [],
   "source": [
    "import pandas as pd"
   ]
  },
  {
   "cell_type": "code",
   "execution_count": 4,
   "id": "5a30fd3c",
   "metadata": {},
   "outputs": [],
   "source": [
    "# data/253425.csvを読み込む\n",
    "# 1行目はファンド名、2行目がヘッダー、3行目からデータ\n",
    "# 文字コードはShift_JIS\n",
    "df = pd.read_csv('data/253425.csv', encoding='shift_jis', header=1)"
   ]
  },
  {
   "cell_type": "code",
   "execution_count": 20,
   "id": "2dafcfae",
   "metadata": {},
   "outputs": [],
   "source": [
    "# 基準日、期間（週）を指定すると、その期間のリターンを計算する関数\n",
    "def calculate_return(df, base_date, period_weeks):\n",
    "    # '基準日'列をdatetime型に変換（既に変換済みの場合は不要）\n",
    "    df['基準日'] = pd.to_datetime(df['基準日'])\n",
    "    base_date_dt = pd.to_datetime(base_date)\n",
    "    # 基準日からperiod_weeks週間前の日付（指定された開始日）を計算\n",
    "    start_date_requested = base_date_dt - pd.Timedelta(weeks=period_weeks)\n",
    "    \n",
    "    # 指定日以下で最大の日付を使用\n",
    "    base_date_used = df.loc[df['基準日'] <= base_date_dt, '基準日'].max()\n",
    "    start_date_used = df.loc[df['基準日'] <= start_date_requested, '基準日'].max()\n",
    "    \n",
    "    if pd.isnull(base_date_used) or pd.isnull(start_date_used):\n",
    "        raise ValueError(\"データ内に有効な日付が存在しません\")\n",
    "    \n",
    "    # 基準日と開始日に対応する基準価額（分配金再投資）の取得\n",
    "    base_price_arr = df.loc[df['基準日'] == base_date_used, '基準価額（分配金再投資）(円)']\n",
    "    start_price_arr = df.loc[df['基準日'] == start_date_used, '基準価額（分配金再投資）(円)']\n",
    "    \n",
    "    if base_price_arr.empty or start_price_arr.empty:\n",
    "        raise ValueError(\"指定された基準日または開始日に対応する基準価額が存在しません\")\n",
    "    \n",
    "    base_price = base_price_arr.values[0]\n",
    "    start_price = start_price_arr.values[0]\n",
    "    \n",
    "    # リターンを計算（%で小数点以下2桁まで）\n",
    "    return round((base_price - start_price) / start_price * 100, 2)"
   ]
  },
  {
   "cell_type": "code",
   "execution_count": 19,
   "id": "d3107b23",
   "metadata": {},
   "outputs": [],
   "source": [
    "base_date = '2025-09-19'\n",
    "period_weeks = 156\n",
    "start_date = pd.to_datetime(base_date) - pd.Timedelta(weeks=period_weeks)"
   ]
  },
  {
   "cell_type": "code",
   "execution_count": 11,
   "id": "f5023f9c",
   "metadata": {},
   "outputs": [
    {
     "data": {
      "text/plain": [
       "<bound method NDFrame.head of              基準日  基準価額(円)  基準価額（分配金再投資）(円)  分配金（税引前）(円)  純資産総額（億円）\n",
       "0     2018/10/31    10000            10000          NaN       0.10\n",
       "1     2018/11/01    10077            10077          NaN       0.10\n",
       "2     2018/11/02    10209            10209          NaN       0.11\n",
       "3     2018/11/05    10228            10228          NaN       0.35\n",
       "4     2018/11/06    10259            10259          NaN       0.86\n",
       "...          ...      ...              ...          ...        ...\n",
       "1676  2025/09/16    29995            29995          NaN   74290.49\n",
       "1677  2025/09/17    29794            29794          NaN   73874.72\n",
       "1678  2025/09/18    29864            29864          NaN   74138.55\n",
       "1679  2025/09/19    30174            30174          NaN   74967.33\n",
       "1680  2025/09/22    30296            30296          NaN   75312.18\n",
       "\n",
       "[1681 rows x 5 columns]>"
      ]
     },
     "execution_count": 11,
     "metadata": {},
     "output_type": "execute_result"
    }
   ],
   "source": [
    "df.head"
   ]
  },
  {
   "cell_type": "code",
   "execution_count": 21,
   "id": "d6c792e3",
   "metadata": {},
   "outputs": [
    {
     "name": "stdout",
     "output_type": "stream",
     "text": [
      "16.34\n",
      "22.71\n",
      "80.35\n",
      "171.25\n"
     ]
    }
   ],
   "source": [
    "print(calculate_return(df, '2025-09-19', 26))\n",
    "print(calculate_return(df, '2025-09-19', 52))\n",
    "print(calculate_return(df, '2025-09-19', 156))\n",
    "print(calculate_return(df, '2025-09-19', 260))"
   ]
  },
  {
   "cell_type": "code",
   "execution_count": null,
   "id": "b768374a",
   "metadata": {},
   "outputs": [],
   "source": []
  }
 ],
 "metadata": {
  "kernelspec": {
   "display_name": "py311",
   "language": "python",
   "name": "python3"
  },
  "language_info": {
   "codemirror_mode": {
    "name": "ipython",
    "version": 3
   },
   "file_extension": ".py",
   "mimetype": "text/x-python",
   "name": "python",
   "nbconvert_exporter": "python",
   "pygments_lexer": "ipython3",
   "version": "3.11.5"
  }
 },
 "nbformat": 4,
 "nbformat_minor": 5
}
