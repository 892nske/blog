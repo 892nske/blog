{
 "cells": [
  {
   "cell_type": "code",
   "execution_count": null,
   "id": "89047296",
   "metadata": {},
   "outputs": [],
   "source": [
    "import pandas as pd"
   ]
  },
  {
   "cell_type": "code",
   "execution_count": null,
   "id": "cd24ab02",
   "metadata": {},
   "outputs": [],
   "source": [
    "# data/253425.csvを読み込む\n",
    "# 1行目はファンド名、2行目がヘッダー、3行目からデータ\n",
    "# 文字コードはShift_JIS\n",
    "df = pd.read_csv('data/253425.csv', encoding='shift_jis', header=1)"
   ]
  },
  {
   "cell_type": "code",
   "execution_count": 25,
   "id": "088b70f2",
   "metadata": {},
   "outputs": [],
   "source": [
    "# 基準日、期間を指定するとその期間の週次リターンのdataframeを返す関数\n",
    "# 基準日はYYYY-MM-DD形式、期間は週数\n",
    "# 金曜日の基準価額から週次リターンを計算\n",
    "# 引数は基準日、週数、基準価額のDataframe\n",
    "def get_weekly_returns(base_date, weeks, df):\n",
    "    # 基準日をdatetimeに変換\n",
    "    base_date_dt = pd.to_datetime(base_date)\n",
    "    # コピーして元データを保護\n",
    "    df = df.copy()\n",
    "    df['基準日'] = pd.to_datetime(df['基準日'])\n",
    "    # 基準日以前のデータのみ使用（将来日付を除外）\n",
    "    df_up_to = df.loc[df['基準日'] <= base_date_dt].sort_values('基準日')\n",
    "\n",
    "    # 週ごとに、金曜日が無ければその週より過去で最も近い日を採用する\n",
    "    selected_dates = []\n",
    "    # 例: weeks=52 のとき、週の終わり日を過去から現在へ計算（古い順）\n",
    "    for k in range(weeks, -1, -1):\n",
    "        week_end = base_date_dt - pd.Timedelta(weeks=k)\n",
    "        candidate = df_up_to.loc[df_up_to['基準日'] <= week_end, '基準日'].max()\n",
    "        if pd.isnull(candidate):\n",
    "            # この週より前にデータが存在しない場合はスキップ\n",
    "            continue\n",
    "        # 重複して同じ日付を複数回使わない\n",
    "        if not selected_dates or candidate != selected_dates[-1]:\n",
    "            selected_dates.append(candidate)\n",
    "\n",
    "    if not selected_dates:\n",
    "        # 利用可能な日付がない\n",
    "        return pd.DataFrame(columns=['基準日', '週次リターン'])\n",
    "\n",
    "    # 抽出した日付に対応する行を取得し、日付順にソート\n",
    "    df_sel = df_up_to[df_up_to['基準日'].isin(selected_dates)].sort_values('基準日').copy()\n",
    "    # 週次リターンを計算（前行との差分）\n",
    "    df_sel['週次リターン'] = df_sel['基準価額（分配金再投資）(円)'].pct_change()\n",
    "    # 最初の行はNaNになるため削除\n",
    "    df_sel = df_sel.dropna(subset=['週次リターン'])\n",
    "    # 要求された週数分（最新のもの）だけ返す\n",
    "    if len(df_sel) > weeks:\n",
    "        return df_sel[['基準日', '週次リターン']].tail(weeks)\n",
    "    return df_sel[['基準日', '週次リターン']]"
   ]
  },
  {
   "cell_type": "code",
   "execution_count": 26,
   "id": "5a4d843c",
   "metadata": {},
   "outputs": [],
   "source": [
    "base_date = '2025-10-10'\n",
    "weeks = 52\n",
    "testdf = get_weekly_returns(base_date, weeks, df)"
   ]
  },
  {
   "cell_type": "code",
   "execution_count": 27,
   "id": "e517e907",
   "metadata": {},
   "outputs": [],
   "source": [
    "# get_weekly_returns関数を改造し、基準日と週数から週次リターンの標準偏差を返す関数\n",
    "# 標準偏差を計算後、√52をかけて年率換算\n",
    "def get_weekly_return_std(base_date, weeks, df):\n",
    "    weekly_returns_df = get_weekly_returns(base_date, weeks, df)\n",
    "    std_dev = weekly_returns_df['週次リターン'].std()\n",
    "    annualized_std_dev = std_dev * (52 ** 0.5)\n",
    "    return annualized_std_dev"
   ]
  },
  {
   "cell_type": "code",
   "execution_count": 30,
   "id": "2dd50ddb",
   "metadata": {},
   "outputs": [
    {
     "name": "stdout",
     "output_type": "stream",
     "text": [
      "過去26週の週次リターンの標準偏差: 10.03%\n",
      "過去52週の週次リターンの標準偏差: 16.24%\n",
      "過去156週の週次リターンの標準偏差: 14.91%\n"
     ]
    }
   ],
   "source": [
    "# '2025-10-10'から過去26週、52週、156週の週次リターンの標準偏差を計算\n",
    "# 表示は%表記で小数点以下3桁目を四捨五入\n",
    "std_26 = get_weekly_return_std('2025-10-10', 26, df)\n",
    "std_52 = get_weekly_return_std('2025-10-10', 52, df)\n",
    "std_156 = get_weekly_return_std('2025-10-10', 156, df)  \n",
    "print(f\"過去26週の週次リターンの標準偏差: {std_26:.2%}\")\n",
    "print(f\"過去52週の週次リターンの標準偏差: {std_52:.2%}\")\n",
    "print(f\"過去156週の週次リターンの標準偏差: {std_156:.2%}\")"
   ]
  },
  {
   "cell_type": "code",
   "execution_count": null,
   "id": "34f353bb",
   "metadata": {},
   "outputs": [],
   "source": []
  }
 ],
 "metadata": {
  "kernelspec": {
   "display_name": "py311",
   "language": "python",
   "name": "python3"
  },
  "language_info": {
   "codemirror_mode": {
    "name": "ipython",
    "version": 3
   },
   "file_extension": ".py",
   "mimetype": "text/x-python",
   "name": "python",
   "nbconvert_exporter": "python",
   "pygments_lexer": "ipython3",
   "version": "3.11.5"
  }
 },
 "nbformat": 4,
 "nbformat_minor": 5
}
